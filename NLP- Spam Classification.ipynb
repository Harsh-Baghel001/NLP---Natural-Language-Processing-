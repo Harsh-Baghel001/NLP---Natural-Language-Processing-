{
 "cells": [
  {
   "cell_type": "markdown",
   "id": "3e0ffb1d",
   "metadata": {},
   "source": [
    "# Text Classification\n",
    "## Spam Guard Classification(spam or ham)"
   ]
  },
  {
   "cell_type": "code",
   "execution_count": 1,
   "id": "63af287e",
   "metadata": {},
   "outputs": [],
   "source": [
    "import pandas as pd\n",
    "import numpy as np\n",
    "\n",
    "# libraries for document term Matrix\n",
    "from sklearn.feature_extraction.text import CountVectorizer\n",
    "from sklearn.feature_extraction.text import TfidfVectorizer\n",
    "\n",
    "# Splitting the data\n",
    "from sklearn.model_selection import train_test_split\n",
    "\n",
    "# Models\n",
    "from sklearn.naive_bayes import GaussianNB\n",
    "from sklearn.neighbors import KNeighborsClassifier\n",
    "from sklearn.ensemble import RandomForestClassifier,GradientBoostingClassifier,BaggingClassifier,StackingClassifier\n",
    "from sklearn.tree import DecisionTreeClassifier\n",
    "from sklearn.linear_model import LogisticRegression\n",
    "from xgboost import XGBClassifier\n",
    "\n",
    "# Evaluating Metrics\n",
    "from sklearn.metrics import precision_score,recall_score,accuracy_score,roc_auc_score,f1_score,confusion_matrix\n",
    "\n",
    "# Visualisation Libraries\n",
    "import seaborn as sns\n",
    "import matplotlib.pyplot as plt\n",
    "from wordcloud import WordCloud\n"
   ]
  },
  {
   "cell_type": "code",
   "execution_count": 2,
   "id": "15678a2d",
   "metadata": {},
   "outputs": [],
   "source": [
    "data = pd.read_table('sms.tsv', header=None, names=['label', 'message'])"
   ]
  },
  {
   "cell_type": "code",
   "execution_count": 3,
   "id": "d804fb31",
   "metadata": {},
   "outputs": [
    {
     "name": "stdout",
     "output_type": "stream",
     "text": [
      "No. of Rows: 5572\n",
      "No. of Columns: 2\n"
     ]
    }
   ],
   "source": [
    "print('No. of Rows:',data.shape[0])\n",
    "print('No. of Columns:',data.shape[1])"
   ]
  },
  {
   "cell_type": "code",
   "execution_count": 4,
   "id": "ed539136",
   "metadata": {},
   "outputs": [
    {
     "data": {
      "text/html": [
       "<div>\n",
       "<style scoped>\n",
       "    .dataframe tbody tr th:only-of-type {\n",
       "        vertical-align: middle;\n",
       "    }\n",
       "\n",
       "    .dataframe tbody tr th {\n",
       "        vertical-align: top;\n",
       "    }\n",
       "\n",
       "    .dataframe thead th {\n",
       "        text-align: right;\n",
       "    }\n",
       "</style>\n",
       "<table border=\"1\" class=\"dataframe\">\n",
       "  <thead>\n",
       "    <tr style=\"text-align: right;\">\n",
       "      <th></th>\n",
       "      <th>label</th>\n",
       "      <th>message</th>\n",
       "    </tr>\n",
       "  </thead>\n",
       "  <tbody>\n",
       "    <tr>\n",
       "      <th>0</th>\n",
       "      <td>ham</td>\n",
       "      <td>Go until jurong point, crazy.. Available only ...</td>\n",
       "    </tr>\n",
       "    <tr>\n",
       "      <th>1</th>\n",
       "      <td>ham</td>\n",
       "      <td>Ok lar... Joking wif u oni...</td>\n",
       "    </tr>\n",
       "    <tr>\n",
       "      <th>2</th>\n",
       "      <td>spam</td>\n",
       "      <td>Free entry in 2 a wkly comp to win FA Cup fina...</td>\n",
       "    </tr>\n",
       "    <tr>\n",
       "      <th>3</th>\n",
       "      <td>ham</td>\n",
       "      <td>U dun say so early hor... U c already then say...</td>\n",
       "    </tr>\n",
       "    <tr>\n",
       "      <th>4</th>\n",
       "      <td>ham</td>\n",
       "      <td>Nah I don't think he goes to usf, he lives aro...</td>\n",
       "    </tr>\n",
       "  </tbody>\n",
       "</table>\n",
       "</div>"
      ],
      "text/plain": [
       "  label                                            message\n",
       "0   ham  Go until jurong point, crazy.. Available only ...\n",
       "1   ham                      Ok lar... Joking wif u oni...\n",
       "2  spam  Free entry in 2 a wkly comp to win FA Cup fina...\n",
       "3   ham  U dun say so early hor... U c already then say...\n",
       "4   ham  Nah I don't think he goes to usf, he lives aro..."
      ]
     },
     "execution_count": 4,
     "metadata": {},
     "output_type": "execute_result"
    }
   ],
   "source": [
    "data.head()"
   ]
  },
  {
   "cell_type": "code",
   "execution_count": 5,
   "id": "450a4050",
   "metadata": {},
   "outputs": [],
   "source": [
    "# convert the target variable text to number just like encoding....\n",
    "data['label_num'] = data['label'].map({'ham':0,'spam':1})"
   ]
  },
  {
   "cell_type": "code",
   "execution_count": 6,
   "id": "1c3c100b",
   "metadata": {},
   "outputs": [
    {
     "data": {
      "text/html": [
       "<div>\n",
       "<style scoped>\n",
       "    .dataframe tbody tr th:only-of-type {\n",
       "        vertical-align: middle;\n",
       "    }\n",
       "\n",
       "    .dataframe tbody tr th {\n",
       "        vertical-align: top;\n",
       "    }\n",
       "\n",
       "    .dataframe thead th {\n",
       "        text-align: right;\n",
       "    }\n",
       "</style>\n",
       "<table border=\"1\" class=\"dataframe\">\n",
       "  <thead>\n",
       "    <tr style=\"text-align: right;\">\n",
       "      <th></th>\n",
       "      <th>label</th>\n",
       "      <th>message</th>\n",
       "      <th>label_num</th>\n",
       "    </tr>\n",
       "  </thead>\n",
       "  <tbody>\n",
       "    <tr>\n",
       "      <th>0</th>\n",
       "      <td>ham</td>\n",
       "      <td>Go until jurong point, crazy.. Available only ...</td>\n",
       "      <td>0</td>\n",
       "    </tr>\n",
       "    <tr>\n",
       "      <th>1</th>\n",
       "      <td>ham</td>\n",
       "      <td>Ok lar... Joking wif u oni...</td>\n",
       "      <td>0</td>\n",
       "    </tr>\n",
       "    <tr>\n",
       "      <th>2</th>\n",
       "      <td>spam</td>\n",
       "      <td>Free entry in 2 a wkly comp to win FA Cup fina...</td>\n",
       "      <td>1</td>\n",
       "    </tr>\n",
       "  </tbody>\n",
       "</table>\n",
       "</div>"
      ],
      "text/plain": [
       "  label                                            message  label_num\n",
       "0   ham  Go until jurong point, crazy.. Available only ...          0\n",
       "1   ham                      Ok lar... Joking wif u oni...          0\n",
       "2  spam  Free entry in 2 a wkly comp to win FA Cup fina...          1"
      ]
     },
     "execution_count": 6,
     "metadata": {},
     "output_type": "execute_result"
    }
   ],
   "source": [
    "data.head(3)"
   ]
  },
  {
   "cell_type": "code",
   "execution_count": 7,
   "id": "b829b2ba",
   "metadata": {},
   "outputs": [
    {
     "data": {
      "text/plain": [
       "ham     4825\n",
       "spam     747\n",
       "Name: label, dtype: int64"
      ]
     },
     "execution_count": 7,
     "metadata": {},
     "output_type": "execute_result"
    }
   ],
   "source": [
    "data.label.value_counts()"
   ]
  },
  {
   "cell_type": "code",
   "execution_count": 8,
   "id": "9ec31334",
   "metadata": {},
   "outputs": [
    {
     "data": {
      "text/plain": [
       "0    4825\n",
       "1     747\n",
       "Name: label_num, dtype: int64"
      ]
     },
     "execution_count": 8,
     "metadata": {},
     "output_type": "execute_result"
    }
   ],
   "source": [
    "data['label_num'].value_counts()"
   ]
  },
  {
   "cell_type": "code",
   "execution_count": 9,
   "id": "7b9e8f9c",
   "metadata": {},
   "outputs": [],
   "source": [
    "x = data['message']\n",
    "y = data['label_num']"
   ]
  },
  {
   "cell_type": "markdown",
   "id": "a42dc104",
   "metadata": {},
   "source": [
    "### Splitting the data in train and validating sets:"
   ]
  },
  {
   "cell_type": "code",
   "execution_count": 10,
   "id": "465ab67a",
   "metadata": {},
   "outputs": [],
   "source": [
    "train_x,test_x,train_y,test_y = train_test_split(x,y,random_state=7)"
   ]
  },
  {
   "cell_type": "code",
   "execution_count": 11,
   "id": "7e335289",
   "metadata": {},
   "outputs": [
    {
     "data": {
      "text/plain": [
       "((4179,), (4179,))"
      ]
     },
     "execution_count": 11,
     "metadata": {},
     "output_type": "execute_result"
    }
   ],
   "source": [
    "# shape of train set\n",
    "train_x.shape,train_y.shape"
   ]
  },
  {
   "cell_type": "code",
   "execution_count": 12,
   "id": "9b3dd570",
   "metadata": {},
   "outputs": [
    {
     "data": {
      "text/plain": [
       "((1393,), (1393,))"
      ]
     },
     "execution_count": 12,
     "metadata": {},
     "output_type": "execute_result"
    }
   ],
   "source": [
    "# shape of validating set\n",
    "test_x.shape,test_y.shape"
   ]
  },
  {
   "cell_type": "code",
   "execution_count": 13,
   "id": "6bcc5324",
   "metadata": {},
   "outputs": [],
   "source": [
    "# to convert text data into dtm:\n",
    "# use train_x to create vocabulary\n",
    "# with created vocabulary get dtm for train_X\n",
    "# with created vocabulary(train_x) , get dtm for test_x"
   ]
  },
  {
   "cell_type": "markdown",
   "id": "790365a4",
   "metadata": {},
   "source": [
    "## Vectorise text dataset:"
   ]
  },
  {
   "cell_type": "code",
   "execution_count": 14,
   "id": "3308e9d2",
   "metadata": {},
   "outputs": [],
   "source": [
    "tonumeric = CountVectorizer()"
   ]
  },
  {
   "cell_type": "code",
   "execution_count": 15,
   "id": "6a7df3cd",
   "metadata": {},
   "outputs": [
    {
     "data": {
      "text/plain": [
       "<4179x7535 sparse matrix of type '<class 'numpy.int64'>'\n",
       "\twith 56144 stored elements in Compressed Sparse Row format>"
      ]
     },
     "execution_count": 15,
     "metadata": {},
     "output_type": "execute_result"
    }
   ],
   "source": [
    "tonumeric.fit(train_x)\n",
    "# create the document term matrix\n",
    "train_x_dtm = tonumeric.transform(train_x)\n",
    "train_x_dtm"
   ]
  },
  {
   "cell_type": "code",
   "execution_count": 16,
   "id": "cdf5e937",
   "metadata": {},
   "outputs": [
    {
     "data": {
      "text/plain": [
       "<1393x7535 sparse matrix of type '<class 'numpy.int64'>'\n",
       "\twith 16754 stored elements in Compressed Sparse Row format>"
      ]
     },
     "execution_count": 16,
     "metadata": {},
     "output_type": "execute_result"
    }
   ],
   "source": [
    "# create the document term matrix\n",
    "test_x_dtm = tonumeric.transform(test_x)\n",
    "test_x_dtm"
   ]
  },
  {
   "cell_type": "markdown",
   "id": "de684388",
   "metadata": {},
   "source": [
    "## Build and Evaluate the model:"
   ]
  },
  {
   "cell_type": "code",
   "execution_count": 17,
   "id": "7afd6111",
   "metadata": {},
   "outputs": [],
   "source": [
    "def evaluate_models(model,train_x,test_x,train_y,test_y):\n",
    "    mode = model\n",
    "    mode.fit(train_x,train_y)\n",
    "    pred = mode.predict(test_x)\n",
    "    pred_prob = mode.predict_proba(test_x)[:,1]\n",
    "    print('Precision:',precision_score(test_y,pred))\n",
    "    print('Recall:',recall_score(test_y,pred))\n",
    "    print('F1_Score:',f1_score(test_y,pred))\n",
    "    print('Accuracy_score:',accuracy_score(test_y,pred))\n",
    "    print('Auc_Roc:', roc_auc_score(test_y,pred_prob))\n",
    "    print('Confusion Matrix:','\\n',confusion_matrix(test_y,pred))"
   ]
  },
  {
   "cell_type": "code",
   "execution_count": 20,
   "id": "d590d6ff",
   "metadata": {},
   "outputs": [
    {
     "name": "stdout",
     "output_type": "stream",
     "text": [
      "Precision: 0.7264397905759162\n",
      "Recall: 1.0\n",
      "F1_Score: 0.8415466262319938\n",
      "Accuracy_score: 0.9499880354151711\n",
      "Auc_Roc: 0.9711644591611479\n",
      "Confusion Matrix: \n",
      " [[3415  209]\n",
      " [   0  555]]\n"
     ]
    }
   ],
   "source": [
    "evaluate_models(model=GaussianNB(),train_x=train_x_dtm.toarray(),test_x=train_x_dtm.toarray(),train_y=train_y,test_y=train_y)"
   ]
  },
  {
   "cell_type": "code",
   "execution_count": 21,
   "id": "7ff2aa33",
   "metadata": {},
   "outputs": [
    {
     "name": "stdout",
     "output_type": "stream",
     "text": [
      "Precision: 0.5709677419354838\n",
      "Recall: 0.921875\n",
      "F1_Score: 0.7051792828685259\n",
      "Accuracy_score: 0.8937544867193108\n",
      "Auc_Roc: 0.9055669754371357\n",
      "Confusion Matrix: \n",
      " [[1068  133]\n",
      " [  15  177]]\n"
     ]
    }
   ],
   "source": [
    "evaluate_models(model=GaussianNB(),train_x=train_x_dtm.toarray(),test_x=test_x_dtm.toarray(),train_y=train_y,test_y=test_y)"
   ]
  },
  {
   "cell_type": "markdown",
   "id": "cfa5d13d",
   "metadata": {},
   "source": [
    "* **Observations:**\n",
    "* The Model has good performance on both test and train set.\n",
    "* The recall score has improved,which is a better metric for us because we are classifying spam(positive).\n",
    "* Precision and Auc Roc Score have reduced."
   ]
  },
  {
   "cell_type": "code",
   "execution_count": 22,
   "id": "951ce6b6",
   "metadata": {},
   "outputs": [
    {
     "name": "stdout",
     "output_type": "stream",
     "text": [
      "Precision: 1.0\n",
      "Recall: 0.9855855855855856\n",
      "F1_Score: 0.9927404718693285\n",
      "Accuracy_score: 0.998085666427375\n",
      "Auc_Roc: 0.9998140524630591\n",
      "Confusion Matrix: \n",
      " [[3624    0]\n",
      " [   8  547]]\n"
     ]
    }
   ],
   "source": [
    "evaluate_models(model=LogisticRegression(),train_x=train_x_dtm.toarray(),test_x=train_x_dtm.toarray(),train_y=train_y,test_y=train_y)"
   ]
  },
  {
   "cell_type": "code",
   "execution_count": 23,
   "id": "195df22c",
   "metadata": {},
   "outputs": [
    {
     "name": "stdout",
     "output_type": "stream",
     "text": [
      "Precision: 0.9659090909090909\n",
      "Recall: 0.8854166666666666\n",
      "F1_Score: 0.9239130434782609\n",
      "Accuracy_score: 0.9798994974874372\n",
      "Auc_Roc: 0.9951819664168748\n",
      "Confusion Matrix: \n",
      " [[1195    6]\n",
      " [  22  170]]\n"
     ]
    }
   ],
   "source": [
    "evaluate_models(model=LogisticRegression(),train_x=train_x_dtm.toarray(),test_x=test_x_dtm.toarray(),train_y=train_y,test_y=test_y)"
   ]
  },
  {
   "cell_type": "markdown",
   "id": "2b1428bf",
   "metadata": {},
   "source": [
    "* **Observations:**\n",
    "* The Model has good performance on both test and train set.\n",
    "* The metrics have reduced but not significantly so we can say that model is generalised."
   ]
  },
  {
   "cell_type": "markdown",
   "id": "c1056c6d",
   "metadata": {},
   "source": [
    "### Fine Tune Vectoriser:"
   ]
  },
  {
   "cell_type": "code",
   "execution_count": 24,
   "id": "e3aa62b9",
   "metadata": {},
   "outputs": [
    {
     "data": {
      "text/plain": [
       "7271"
      ]
     },
     "execution_count": 24,
     "metadata": {},
     "output_type": "execute_result"
    }
   ],
   "source": [
    "tonumeric = CountVectorizer(stop_words='english')\n",
    "tonumeric.fit(train_x)\n",
    "len(tonumeric.get_feature_names_out())"
   ]
  },
  {
   "cell_type": "code",
   "execution_count": 25,
   "id": "5354cf0b",
   "metadata": {},
   "outputs": [
    {
     "data": {
      "text/plain": [
       "41571"
      ]
     },
     "execution_count": 25,
     "metadata": {},
     "output_type": "execute_result"
    }
   ],
   "source": [
    "# include 1 and 2gram.....  \n",
    "toNumeric = CountVectorizer(ngram_range=(1, 2))\n",
    "toNumeric.fit(train_x)\n",
    "len(toNumeric.get_feature_names_out())"
   ]
  },
  {
   "cell_type": "code",
   "execution_count": 26,
   "id": "e0e1cd6a",
   "metadata": {},
   "outputs": [
    {
     "data": {
      "text/plain": [
       "7535"
      ]
     },
     "execution_count": 26,
     "metadata": {},
     "output_type": "execute_result"
    }
   ],
   "source": [
    "# Ignore terms that appear in more than 75% of the documents\n",
    "toNumeric = CountVectorizer(max_df=0.75)\n",
    "toNumeric.fit(train_x)\n",
    "len(toNumeric.get_feature_names_out())"
   ]
  },
  {
   "cell_type": "code",
   "execution_count": 27,
   "id": "f1039a44",
   "metadata": {},
   "outputs": [
    {
     "data": {
      "text/plain": [
       "3527"
      ]
     },
     "execution_count": 27,
     "metadata": {},
     "output_type": "execute_result"
    }
   ],
   "source": [
    "# Keep terms that appear in at least 5 documents\n",
    "toNumeric = CountVectorizer(min_df=2)\n",
    "toNumeric.fit(train_x)\n",
    "len(toNumeric.get_feature_names_out())"
   ]
  },
  {
   "cell_type": "markdown",
   "id": "21370c13",
   "metadata": {},
   "source": [
    "### Visualization via Word Cloud:"
   ]
  },
  {
   "cell_type": "code",
   "execution_count": 28,
   "id": "4d22254e",
   "metadata": {},
   "outputs": [
    {
     "data": {
      "text/html": [
       "<div>\n",
       "<style scoped>\n",
       "    .dataframe tbody tr th:only-of-type {\n",
       "        vertical-align: middle;\n",
       "    }\n",
       "\n",
       "    .dataframe tbody tr th {\n",
       "        vertical-align: top;\n",
       "    }\n",
       "\n",
       "    .dataframe thead th {\n",
       "        text-align: right;\n",
       "    }\n",
       "</style>\n",
       "<table border=\"1\" class=\"dataframe\">\n",
       "  <thead>\n",
       "    <tr style=\"text-align: right;\">\n",
       "      <th></th>\n",
       "      <th>label</th>\n",
       "      <th>message</th>\n",
       "      <th>label_num</th>\n",
       "    </tr>\n",
       "  </thead>\n",
       "  <tbody>\n",
       "    <tr>\n",
       "      <th>0</th>\n",
       "      <td>ham</td>\n",
       "      <td>Go until jurong point, crazy.. Available only ...</td>\n",
       "      <td>0</td>\n",
       "    </tr>\n",
       "    <tr>\n",
       "      <th>1</th>\n",
       "      <td>ham</td>\n",
       "      <td>Ok lar... Joking wif u oni...</td>\n",
       "      <td>0</td>\n",
       "    </tr>\n",
       "    <tr>\n",
       "      <th>2</th>\n",
       "      <td>spam</td>\n",
       "      <td>Free entry in 2 a wkly comp to win FA Cup fina...</td>\n",
       "      <td>1</td>\n",
       "    </tr>\n",
       "    <tr>\n",
       "      <th>3</th>\n",
       "      <td>ham</td>\n",
       "      <td>U dun say so early hor... U c already then say...</td>\n",
       "      <td>0</td>\n",
       "    </tr>\n",
       "    <tr>\n",
       "      <th>4</th>\n",
       "      <td>ham</td>\n",
       "      <td>Nah I don't think he goes to usf, he lives aro...</td>\n",
       "      <td>0</td>\n",
       "    </tr>\n",
       "  </tbody>\n",
       "</table>\n",
       "</div>"
      ],
      "text/plain": [
       "  label                                            message  label_num\n",
       "0   ham  Go until jurong point, crazy.. Available only ...          0\n",
       "1   ham                      Ok lar... Joking wif u oni...          0\n",
       "2  spam  Free entry in 2 a wkly comp to win FA Cup fina...          1\n",
       "3   ham  U dun say so early hor... U c already then say...          0\n",
       "4   ham  Nah I don't think he goes to usf, he lives aro...          0"
      ]
     },
     "execution_count": 28,
     "metadata": {},
     "output_type": "execute_result"
    }
   ],
   "source": [
    "data.head()"
   ]
  },
  {
   "cell_type": "code",
   "execution_count": 29,
   "id": "9259ef61",
   "metadata": {},
   "outputs": [
    {
     "data": {
      "image/png": "[encoded data removed]",
      "text/plain": [
       "<Figure size 2000x1000 with 1 Axes>"
      ]
     },
     "metadata": {},
     "output_type": "display_data"
    }
   ],
   "source": [
    "wc = WordCloud()\n",
    "wc.generate(str(data['message']))\n",
    "plt.figure(figsize=(20,10), facecolor='k')\n",
    "plt.title(\"Most frequent words in SMS dataset\", fontsize=40,color='white')\n",
    "plt.imshow(wc)\n",
    "plt.show()"
   ]
  },
  {
   "cell_type": "markdown",
   "id": "9402954d",
   "metadata": {},
   "source": [
    "### My First project of NLP.....\n",
    "## Thank You\n",
    "# END....."
   ]
  }
 ],
 "metadata": {
  "kernelspec": {
   "display_name": "Python 3 (ipykernel)",
   "language": "python",
   "name": "python3"
  },
  "language_info": {
   "codemirror_mode": {
    "name": "ipython",
    "version": 3
   },
   "file_extension": ".py",
   "mimetype": "text/x-python",
   "name": "python",
   "nbconvert_exporter": "python",
   "pygments_lexer": "ipython3",
   "version": "3.11.3"
  }
 },
 "nbformat": 4,
 "nbformat_minor": 5
}
